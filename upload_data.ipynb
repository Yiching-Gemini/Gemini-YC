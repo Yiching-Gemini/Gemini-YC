{
 "cells": [
  {
   "cell_type": "code",
   "execution_count": 2,
   "metadata": {},
   "outputs": [
    {
     "name": "stdout",
     "output_type": "stream",
     "text": [
      "upload data to s3 storage\n"
     ]
    }
   ],
   "source": [
    "import boto #pip install boto\n",
    "\n",
    "import boto.s3.connection\n",
    "access_key = 'AB83M7JZ5B7A4FM81XGR'\n",
    "secret_key = 'bKcA4tOaBLMjgA3J0WBFM3C0bLgGCcYeOYSOTOKl'\n",
    "conn = boto.connect_s3(\n",
    "        aws_access_key_id = access_key,\n",
    "        aws_secret_access_key = secret_key,\n",
    "        host = ' us-east-1.linodeobjects.com',\n",
    "        #is_secure=False,               # uncomment if you are not using ssl\n",
    "        calling_format = boto.s3.connection.OrdinaryCallingFormat(),\n",
    "        )\n",
    "from boto.s3.key import Key\n",
    "tf_bucket = conn.get_bucket('tensorflow')\n",
    "k = Key(tf_bucket)\n",
    "k.key = 'dataset.gz'\n",
    "k.set_contents_from_filename('/home/dataset.gz')\n",
    "\n",
    "print('upload data to s3 storage')"
   ]
  },
  {
   "cell_type": "code",
   "execution_count": null,
   "metadata": {},
   "outputs": [],
   "source": []
  }
 ],
 "metadata": {
  "kernelspec": {
   "display_name": "Python 3",
   "language": "python",
   "name": "python3"
  },
  "language_info": {
   "codemirror_mode": {
    "name": "ipython",
    "version": 3
   },
   "file_extension": ".py",
   "mimetype": "text/x-python",
   "name": "python",
   "nbconvert_exporter": "python",
   "pygments_lexer": "ipython3",
   "version": "3.7.7"
  }
 },
 "nbformat": 4,
 "nbformat_minor": 4
}
